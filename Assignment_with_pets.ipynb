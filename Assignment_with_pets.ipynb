{
 "cells": [
  {
   "cell_type": "markdown",
   "id": "9d329451-06aa-4001-a180-70b492e69504",
   "metadata": {},
   "source": [
    "# My Jupyter Notebook on IBM Watson Studio"
   ]
  },
  {
   "cell_type": "markdown",
   "id": "00530795-e075-4a90-828d-5fe296e0d210",
   "metadata": {},
   "source": [
    "**Ruat Cira**\n",
    "\n",
    "Data Analyst"
   ]
  },
  {
   "cell_type": "markdown",
   "id": "1da2534b-97e1-47b0-bd7c-e1ed5c9f3119",
   "metadata": {},
   "source": [
    "*I find data science interesting because I am fascinated by the amount and rate of information generated and stored everyday that can be transformed into useful tools to provide solutions or make important strategic decisions using appropriate techniques. \n",
    "And I want to help unravel such solutions and strategies. Plus, I am an economist and enjoy statistics and coding.*"
   ]
  },
  {
   "cell_type": "markdown",
   "id": "a3009f26-6852-46bd-8e87-56699c511a33",
   "metadata": {},
   "source": [
    "### The following code shows an expression that multiplies two values:"
   ]
  },
  {
   "cell_type": "code",
   "execution_count": 6,
   "id": "013f533d-1ff6-4f98-95a6-acef1570ae1d",
   "metadata": {},
   "outputs": [
    {
     "data": {
      "text/plain": [
       "64"
      ]
     },
     "execution_count": 6,
     "metadata": {},
     "output_type": "execute_result"
    }
   ],
   "source": [
    "8 * 8"
   ]
  },
  {
   "cell_type": "markdown",
   "id": "0bfa0e55-52aa-4f9e-aa9a-2e615caff2ba",
   "metadata": {},
   "source": [
    "Below are the names of my pets (they are not my security password):\n",
    "\n",
    "1. Isla\n",
    "2. Tei\n",
    "3. Poppy\n",
    "4. Buka\n",
    "________________________________\n",
    "\n",
    "| Name    | Type     | Breed                 | Age |\n",
    "| ------- |:--------:|----------------------:| ---:|\n",
    "| Isla    | Dog      | Shiba Inu             |1    |\n",
    "| Tei     | Cat      | Mixed-unknown         |8    |\n",
    "| Poppy   | Dog      | Jack Russell Terrier  |1    |\n",
    "| Buka    | Dog      | Mixed-unknown         |13   |"
   ]
  },
  {
   "cell_type": "code",
   "execution_count": null,
   "id": "cd1505bb-d1b2-46c7-8894-adea668d560f",
   "metadata": {},
   "outputs": [],
   "source": []
  }
 ],
 "metadata": {
  "kernelspec": {
   "display_name": "Python",
   "language": "python",
   "name": "conda-env-python-py"
  },
  "language_info": {
   "codemirror_mode": {
    "name": "ipython",
    "version": 3
   },
   "file_extension": ".py",
   "mimetype": "text/x-python",
   "name": "python",
   "nbconvert_exporter": "python",
   "pygments_lexer": "ipython3",
   "version": "3.7.12"
  }
 },
 "nbformat": 4,
 "nbformat_minor": 5
}
